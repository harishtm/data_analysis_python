{
 "cells": [
  {
   "cell_type": "code",
   "execution_count": 2,
   "metadata": {},
   "outputs": [],
   "source": [
    "from sklearn.datasets import load_digits"
   ]
  },
  {
   "cell_type": "code",
   "execution_count": 3,
   "metadata": {},
   "outputs": [],
   "source": [
    "digits = load_digits()"
   ]
  },
  {
   "cell_type": "code",
   "execution_count": 4,
   "metadata": {},
   "outputs": [
    {
     "data": {
      "text/plain": [
       "(1797, 64)"
      ]
     },
     "execution_count": 4,
     "metadata": {},
     "output_type": "execute_result"
    }
   ],
   "source": [
    "digits.data.shape"
   ]
  },
  {
   "cell_type": "code",
   "execution_count": 6,
   "metadata": {},
   "outputs": [],
   "source": [
    "import matplotlib.pyplot as plt"
   ]
  },
  {
   "cell_type": "code",
   "execution_count": 7,
   "metadata": {},
   "outputs": [],
   "source": [
    "%matplotlib inline"
   ]
  },
  {
   "cell_type": "code",
   "execution_count": 12,
   "metadata": {},
   "outputs": [
    {
     "data": {
      "text/plain": [
       "<Figure size 432x288 with 0 Axes>"
      ]
     },
     "metadata": {},
     "output_type": "display_data"
    },
    {
     "data": {
      "image/png": "[encoded data removed]",
      "text/plain": [
       "<Figure size 288x288 with 1 Axes>"
      ]
     },
     "metadata": {},
     "output_type": "display_data"
    }
   ],
   "source": [
    "plt.gray()\n",
    "plt.matshow(digits.images[1])\n",
    "plt.show()"
   ]
  },
  {
   "cell_type": "code",
   "execution_count": 13,
   "metadata": {},
   "outputs": [],
   "source": [
    "images_and_labels = list(zip(digits.images, digits.target))"
   ]
  },
  {
   "cell_type": "code",
   "execution_count": 18,
   "metadata": {},
   "outputs": [
    {
     "data": {
      "image/png": "[encoded data removed]",
      "text/plain": [
       "<Figure size 432x288 with 6 Axes>"
      ]
     },
     "metadata": {},
     "output_type": "display_data"
    }
   ],
   "source": [
    "for index, (image, label) in enumerate(images_and_labels[10:16]):\n",
    "    plt.subplot(2, 4, index+1)\n",
    "    plt.axis('off')\n",
    "    plt.imshow(image, cmap=plt.cm.gray_r, interpolation='nearest')\n",
    "    plt.title('Training: %i' % label)"
   ]
  },
  {
   "cell_type": "code",
   "execution_count": 19,
   "metadata": {},
   "outputs": [],
   "source": [
    "n_samples = len(digits.images)\n",
    "data = digits.images.reshape(n_samples, -1)"
   ]
  },
  {
   "cell_type": "code",
   "execution_count": 20,
   "metadata": {},
   "outputs": [
    {
     "name": "stderr",
     "output_type": "stream",
     "text": [
      "/home/user/anaconda3/lib/python3.6/importlib/_bootstrap.py:219: RuntimeWarning: numpy.dtype size changed, may indicate binary incompatibility. Expected 96, got 88\n",
      "  return f(*args, **kwds)\n"
     ]
    }
   ],
   "source": [
    "from sklearn import svm, metrics"
   ]
  },
  {
   "cell_type": "code",
   "execution_count": 21,
   "metadata": {},
   "outputs": [],
   "source": [
    "classifier = svm.SVC(gamma=0.001)"
   ]
  },
  {
   "cell_type": "code",
   "execution_count": 24,
   "metadata": {},
   "outputs": [
    {
     "data": {
      "text/plain": [
       "SVC(C=1.0, cache_size=200, class_weight=None, coef0=0.0,\n",
       "  decision_function_shape='ovr', degree=3, gamma=0.001, kernel='rbf',\n",
       "  max_iter=-1, probability=False, random_state=None, shrinking=True,\n",
       "  tol=0.001, verbose=False)"
      ]
     },
     "execution_count": 24,
     "metadata": {},
     "output_type": "execute_result"
    }
   ],
   "source": [
    "classifier.fit(data[:n_samples // 2], digits.target[:n_samples // 2 ])"
   ]
  },
  {
   "cell_type": "code",
   "execution_count": 25,
   "metadata": {},
   "outputs": [],
   "source": [
    "expected = digits.target[n_samples // 2:]\n",
    "predicted = classifier.predict(data[n_samples // 2:])"
   ]
  },
  {
   "cell_type": "code",
   "execution_count": 27,
   "metadata": {},
   "outputs": [
    {
     "data": {
      "text/plain": [
       "(numpy.ndarray, numpy.ndarray)"
      ]
     },
     "execution_count": 27,
     "metadata": {},
     "output_type": "execute_result"
    }
   ],
   "source": [
    "type(expected), type(predicted)"
   ]
  },
  {
   "cell_type": "code",
   "execution_count": 28,
   "metadata": {},
   "outputs": [
    {
     "data": {
      "text/plain": [
       "'             precision    recall  f1-score   support\\n\\n          0       1.00      0.99      0.99        88\\n          1       0.99      0.97      0.98        91\\n          2       0.99      0.99      0.99        86\\n          3       0.98      0.87      0.92        91\\n          4       0.99      0.96      0.97        92\\n          5       0.95      0.97      0.96        91\\n          6       0.99      0.99      0.99        91\\n          7       0.96      0.99      0.97        89\\n          8       0.94      1.00      0.97        88\\n          9       0.93      0.98      0.95        92\\n\\navg / total       0.97      0.97      0.97       899\\n'"
      ]
     },
     "execution_count": 28,
     "metadata": {},
     "output_type": "execute_result"
    }
   ],
   "source": [
    "metrics.classification_report(expected, predicted)"
   ]
  },
  {
   "cell_type": "code",
   "execution_count": 29,
   "metadata": {},
   "outputs": [
    {
     "data": {
      "text/plain": [
       "array([[87,  0,  0,  0,  1,  0,  0,  0,  0,  0],\n",
       "       [ 0, 88,  1,  0,  0,  0,  0,  0,  1,  1],\n",
       "       [ 0,  0, 85,  1,  0,  0,  0,  0,  0,  0],\n",
       "       [ 0,  0,  0, 79,  0,  3,  0,  4,  5,  0],\n",
       "       [ 0,  0,  0,  0, 88,  0,  0,  0,  0,  4],\n",
       "       [ 0,  0,  0,  0,  0, 88,  1,  0,  0,  2],\n",
       "       [ 0,  1,  0,  0,  0,  0, 90,  0,  0,  0],\n",
       "       [ 0,  0,  0,  0,  0,  1,  0, 88,  0,  0],\n",
       "       [ 0,  0,  0,  0,  0,  0,  0,  0, 88,  0],\n",
       "       [ 0,  0,  0,  1,  0,  1,  0,  0,  0, 90]])"
      ]
     },
     "execution_count": 29,
     "metadata": {},
     "output_type": "execute_result"
    }
   ],
   "source": [
    "metrics.confusion_matrix(expected, predicted)"
   ]
  },
  {
   "cell_type": "code",
   "execution_count": 30,
   "metadata": {},
   "outputs": [],
   "source": [
    "images_and_predictions = list(zip(digits.images[n_samples // 2:], predicted))"
   ]
  },
  {
   "cell_type": "code",
   "execution_count": 44,
   "metadata": {},
   "outputs": [
    {
     "data": {
      "text/plain": [
       "[(array([[ 0.,  0.,  1., 11., 14., 15.,  3.,  0.],\n",
       "         [ 0.,  1., 13., 16., 12., 16.,  8.,  0.],\n",
       "         [ 0.,  8., 16.,  4.,  6., 16.,  5.,  0.],\n",
       "         [ 0.,  5., 15., 11., 13., 14.,  0.,  0.],\n",
       "         [ 0.,  0.,  2., 12., 16., 13.,  0.,  0.],\n",
       "         [ 0.,  0.,  0., 13., 16., 16.,  6.,  0.],\n",
       "         [ 0.,  0.,  0., 16., 16., 16.,  7.,  0.],\n",
       "         [ 0.,  0.,  0., 11., 13., 12.,  1.,  0.]]), 8),\n",
       " (array([[ 0.,  0.,  6., 14., 16.,  5.,  0.,  0.],\n",
       "         [ 0.,  2., 16., 16., 16.,  7.,  0.,  0.],\n",
       "         [ 0.,  2., 15., 16., 15.,  2.,  0.,  0.],\n",
       "         [ 0.,  0.,  6., 16., 15.,  7.,  0.,  0.],\n",
       "         [ 0.,  0., 14., 10.,  6., 16.,  3.,  0.],\n",
       "         [ 0.,  1., 16.,  3.,  0., 16.,  7.,  0.],\n",
       "         [ 0.,  0., 10., 11., 11., 15.,  3.,  0.],\n",
       "         [ 0.,  0.,  3., 14., 16.,  6.,  0.,  0.]]), 8),\n",
       " (array([[ 0.,  0.,  0.,  4., 15.,  6.,  0.,  0.],\n",
       "         [ 0.,  0.,  0., 13., 13.,  1.,  0.,  0.],\n",
       "         [ 0.,  0.,  7., 16.,  2.,  0.,  0.,  0.],\n",
       "         [ 0.,  4., 15.,  8.,  0.,  5.,  0.,  0.],\n",
       "         [ 0., 11., 14.,  1.,  6., 16.,  5.,  0.],\n",
       "         [ 1., 16., 14., 12., 16., 16.,  3.,  0.],\n",
       "         [ 0., 10., 12., 10., 16., 10.,  0.,  0.],\n",
       "         [ 0.,  0.,  0.,  6., 16.,  2.,  0.,  0.]]), 4),\n",
       " (array([[ 0.,  0.,  1.,  9., 15., 11.,  3.,  0.],\n",
       "         [ 0.,  0., 12.,  9.,  1., 11.,  6.,  0.],\n",
       "         [ 0.,  0., 13.,  7.,  6., 16.,  8.,  0.],\n",
       "         [ 0.,  0.,  4., 10., 12., 15.,  4.,  0.],\n",
       "         [ 0.,  0.,  0.,  0.,  0., 12.,  6.,  0.],\n",
       "         [ 0.,  8.,  7.,  0.,  0., 15.,  5.,  0.],\n",
       "         [ 0.,  1., 12., 10.,  4., 16.,  3.,  0.],\n",
       "         [ 0.,  0.,  0., 13., 16.,  8.,  0.,  0.]]), 9)]"
      ]
     },
     "execution_count": 44,
     "metadata": {},
     "output_type": "execute_result"
    }
   ],
   "source": [
    "images_and_predictions[:4]"
   ]
  },
  {
   "cell_type": "code",
   "execution_count": 61,
   "metadata": {},
   "outputs": [
    {
     "data": {
      "image/png": "[encoded data removed]",
      "text/plain": [
       "<Figure size 432x288 with 5 Axes>"
      ]
     },
     "metadata": {},
     "output_type": "display_data"
    }
   ],
   "source": [
    "for index, (image, prediction) in enumerate(images_and_predictions[10:15]):\n",
    "    plt.subplot(3, 4, index+5)\n",
    "    plt.axis('on')\n",
    "    plt.imshow(image, cmap=plt.cm.gray_r, interpolation='nearest')\n",
    "    plt.title('Prediction: %i' % prediction)"
   ]
  },
  {
   "cell_type": "code",
   "execution_count": null,
   "metadata": {},
   "outputs": [],
   "source": []
  }
 ],
 "metadata": {
  "kernelspec": {
   "display_name": "Python 3",
   "language": "python",
   "name": "python3"
  },
  "language_info": {
   "codemirror_mode": {
    "name": "ipython",
    "version": 3
   },
   "file_extension": ".py",
   "mimetype": "text/x-python",
   "name": "python",
   "nbconvert_exporter": "python",
   "pygments_lexer": "ipython3",
   "version": "3.6.6"
  }
 },
 "nbformat": 4,
 "nbformat_minor": 2
}
