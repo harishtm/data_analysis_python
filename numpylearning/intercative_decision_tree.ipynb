{
 "cells": [
  {
   "cell_type": "code",
   "execution_count": 1,
   "metadata": {},
   "outputs": [],
   "source": [
    "data = [{1: {'Title': 'Welcome',\n",
    "   'content': 'Test',\n",
    "   'options': ['Yes[2]', 'No[3]'],\n",
    "   'question': 'Did the TV turn on',\n",
    "   'type': 'radio'}},\n",
    " {2: {'Title': 'Power On Worked',\n",
    "   'content': '',\n",
    "   'options': [],\n",
    "   'question': '',\n",
    "   'type': ''}},\n",
    " {3: {'Title': 'Check the plug',\n",
    "   'content': 'Is the tv plugged in',\n",
    "   'options': ['Yes[4]', 'No[5]'],\n",
    "   'question': 'Can you turn on the tv now'}},\n",
    " {4: {'Title': 'Success',\n",
    "   'content': 'Awsome glad it worked',\n",
    "   'options': [],\n",
    "   'question': '',\n",
    "   'type': ''}},\n",
    " {5: {'Title': 'Failure. Get TV Repaired',\n",
    "   'content': 'Lets send tv for repair',\n",
    "   'options': [],\n",
    "   'question': '',\n",
    "   'type': ''}}]"
   ]
  },
  {
   "cell_type": "code",
   "execution_count": 9,
   "metadata": {},
   "outputs": [
    {
     "name": "stdout",
     "output_type": "stream",
     "text": [
      "Did the TV turn on\n",
      "\n",
      "Can you turn on the tv now\n",
      "\n",
      "\n"
     ]
    }
   ],
   "source": [
    "for node, item in enumerate(data):\n",
    "    print(item.get(node+1).get('question'))"
   ]
  },
  {
   "cell_type": "code",
   "execution_count": 13,
   "metadata": {},
   "outputs": [
    {
     "data": {
      "text/plain": [
       "1"
      ]
     },
     "execution_count": 13,
     "metadata": {},
     "output_type": "execute_result"
    }
   ],
   "source": [
    "min([list(item.keys())[0] for item in data])"
   ]
  },
  {
   "cell_type": "code",
   "execution_count": 14,
   "metadata": {},
   "outputs": [
    {
     "data": {
      "text/plain": [
       "[{'Title': 'Welcome',\n",
       "  'content': 'Test',\n",
       "  'options': ['Yes[2]', 'No[3]'],\n",
       "  'question': 'Did the TV turn on',\n",
       "  'type': 'radio'},\n",
       " None,\n",
       " None,\n",
       " None,\n",
       " None]"
      ]
     },
     "execution_count": 14,
     "metadata": {},
     "output_type": "execute_result"
    }
   ],
   "source": [
    "[item.get(1) for item in data]"
   ]
  },
  {
   "cell_type": "code",
   "execution_count": 20,
   "metadata": {},
   "outputs": [
    {
     "data": {
      "text/plain": [
       "1"
      ]
     },
     "execution_count": 20,
     "metadata": {},
     "output_type": "execute_result"
    }
   ],
   "source": [
    "list(data[0].keys())[0]"
   ]
  },
  {
   "cell_type": "code",
   "execution_count": 24,
   "metadata": {},
   "outputs": [
    {
     "name": "stdout",
     "output_type": "stream",
     "text": [
      "1\n",
      "2\n",
      "3\n",
      "4\n",
      "5\n"
     ]
    }
   ],
   "source": [
    "for item in data:\n",
    "    print(list(item.keys())[0])"
   ]
  },
  {
   "cell_type": "code",
   "execution_count": 27,
   "metadata": {},
   "outputs": [],
   "source": [
    "import re"
   ]
  },
  {
   "cell_type": "code",
   "execution_count": 32,
   "metadata": {},
   "outputs": [
    {
     "name": "stdout",
     "output_type": "stream",
     "text": [
      "32\n"
     ]
    }
   ],
   "source": [
    "pattern = re.compile(r'(\\[[^\\]]*)\\b(\\d+)\\b(?=[^\\]]*\\])') # for 11\n",
    "text = 'Gabrilovich and Markovitch [11, 12] propose a method to use conditional random fields [6] as a training process.....'\n",
    "result =  re.search(pattern, text)\n",
    "if result:\n",
    "    print(result.start(2))"
   ]
  },
  {
   "cell_type": "code",
   "execution_count": 35,
   "metadata": {},
   "outputs": [
    {
     "data": {
      "text/plain": [
       "('[11, ', '12')"
      ]
     },
     "execution_count": 35,
     "metadata": {},
     "output_type": "execute_result"
    }
   ],
   "source": [
    "result.groups()"
   ]
  },
  {
   "cell_type": "code",
   "execution_count": 41,
   "metadata": {},
   "outputs": [
    {
     "data": {
      "text/plain": [
       "3"
      ]
     },
     "execution_count": 41,
     "metadata": {},
     "output_type": "execute_result"
    }
   ],
   "source": [
    "eval(re.findall(r'\\[[^()]*\\]', 'Age>16[3]')[0])[0]"
   ]
  },
  {
   "cell_type": "code",
   "execution_count": 43,
   "metadata": {},
   "outputs": [
    {
     "name": "stdout",
     "output_type": "stream",
     "text": [
      "['Yes[2]', 'No[3]']\n",
      "[]\n",
      "['Yes[4]', 'No[5]']\n",
      "[]\n",
      "[]\n"
     ]
    }
   ],
   "source": [
    "for item in data:\n",
    "    print(item.get(list(item.keys())[0]).get('options'))"
   ]
  },
  {
   "cell_type": "code",
   "execution_count": 48,
   "metadata": {},
   "outputs": [
    {
     "name": "stdout",
     "output_type": "stream",
     "text": [
      "[2, 3]\n",
      "[]\n",
      "[4, 5]\n",
      "[]\n",
      "[]\n"
     ]
    }
   ],
   "source": [
    "for item in data:\n",
    "    print([item for sublist in [eval(re.findall(r'\\[[^()]*\\]', ch)[0]) for ch in item.get(list(item.keys())[0]).get('options')] for item in sublist])"
   ]
  },
  {
   "cell_type": "code",
   "execution_count": 64,
   "metadata": {},
   "outputs": [],
   "source": [
    "data = [{\"1A\": {'Title': 'Welcome',\n",
    "   'content': 'Test',\n",
    "   'options': ['Yes[2]', 'No[3A]'],\n",
    "   'question': 'Did the TV turn on',\n",
    "   'type': 'radio'}},\n",
    " {2: {'Title': 'Power On Worked',\n",
    "   'content': '',\n",
    "   'options': [],\n",
    "   'question': '',\n",
    "   'type': ''}},\n",
    " {3: {'Title': 'Check the plug',\n",
    "   'content': 'Is the tv plugged in',\n",
    "   'options': ['Yes[4]', 'No[5]'],\n",
    "   'question': 'Can you turn on the tv now'}},\n",
    " {4: {'Title': 'Success',\n",
    "   'content': 'Awsome glad it worked',\n",
    "   'options': [],\n",
    "   'question': '',\n",
    "   'type': ''}},\n",
    " {5: {'Title': 'Failure. Get TV Repaired',\n",
    "   'content': 'Lets send tv for repair',\n",
    "   'options': [],\n",
    "   'question': '',\n",
    "   'type': ''}}]"
   ]
  },
  {
   "cell_type": "code",
   "execution_count": 63,
   "metadata": {},
   "outputs": [
    {
     "data": {
      "text/plain": [
       "[0, 2, 3, 4, 5]"
      ]
     },
     "execution_count": 63,
     "metadata": {},
     "output_type": "execute_result"
    }
   ],
   "source": [
    "[list(item.keys())[0] if type(list(item.keys())[0]) == int else 0 for item in data]"
   ]
  },
  {
   "cell_type": "code",
   "execution_count": 72,
   "metadata": {},
   "outputs": [
    {
     "name": "stdout",
     "output_type": "stream",
     "text": [
      "[]\n",
      "[]\n",
      "[]\n",
      "[]\n",
      "[]\n"
     ]
    }
   ],
   "source": [
    "for item in data:\n",
    "    print([item for sublist in [re.findall(r'\\[[^(\\d+)]*\\]', ch) for ch in item.get(list(item.keys())[0]).get('options')] for item in sublist])"
   ]
  },
  {
   "cell_type": "code",
   "execution_count": null,
   "metadata": {},
   "outputs": [],
   "source": []
  },
  {
   "cell_type": "code",
   "execution_count": null,
   "metadata": {},
   "outputs": [],
   "source": []
  }
 ],
 "metadata": {
  "kernelspec": {
   "display_name": "Python 3",
   "language": "python",
   "name": "python3"
  },
  "language_info": {
   "codemirror_mode": {
    "name": "ipython",
    "version": 3
   },
   "file_extension": ".py",
   "mimetype": "text/x-python",
   "name": "python",
   "nbconvert_exporter": "python",
   "pygments_lexer": "ipython3",
   "version": "3.6.6"
  }
 },
 "nbformat": 4,
 "nbformat_minor": 2
}
