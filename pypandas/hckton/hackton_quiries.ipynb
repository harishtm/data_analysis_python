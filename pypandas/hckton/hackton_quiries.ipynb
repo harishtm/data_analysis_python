{
 "cells": [
  {
   "cell_type": "code",
   "execution_count": 1,
   "metadata": {},
   "outputs": [],
   "source": [
    "import pandas as pd"
   ]
  },
  {
   "cell_type": "code",
   "execution_count": 2,
   "metadata": {},
   "outputs": [],
   "source": [
    "df = pd.read_csv('ProHactive - Data Model.csv')"
   ]
  },
  {
   "cell_type": "code",
   "execution_count": 3,
   "metadata": {},
   "outputs": [
    {
     "data": {
      "text/plain": [
       "['username',\n",
       " 'Password',\n",
       " 'Name',\n",
       " 'Address ',\n",
       " 'phonenumber',\n",
       " 'preference',\n",
       " 'cartid',\n",
       " 'username.1',\n",
       " 'productid',\n",
       " 'orderquantity',\n",
       " 'productid.1',\n",
       " 'productname',\n",
       " 'description',\n",
       " 'quantityavailable',\n",
       " 'Currency',\n",
       " 'Price',\n",
       " 'Category']"
      ]
     },
     "execution_count": 3,
     "metadata": {},
     "output_type": "execute_result"
    }
   ],
   "source": [
    "list(df.columns)"
   ]
  },
  {
   "cell_type": "code",
   "execution_count": 4,
   "metadata": {},
   "outputs": [
    {
     "data": {
      "text/plain": [
       "'{\"0\":null,\"1\":null,\"2\":null,\"3\":null,\"4\":null,\"5\":null,\"6\":\"Water Heaters\",\"7\":\"Prism\",\"8\":\"Tracker\"}'"
      ]
     },
     "execution_count": 4,
     "metadata": {},
     "output_type": "execute_result"
    }
   ],
   "source": [
    "df['productname'].to_json()"
   ]
  },
  {
   "cell_type": "code",
   "execution_count": 5,
   "metadata": {},
   "outputs": [],
   "source": [
    "df1 = df.loc[df['productname'].notnull()][['productname', 'description', 'Price', 'Category', 'Currency', 'quantityavailable']]"
   ]
  },
  {
   "cell_type": "code",
   "execution_count": 6,
   "metadata": {},
   "outputs": [
    {
     "data": {
      "text/plain": [
       "'{\"columns\":[\"productname\",\"description\",\"Price\",\"Category\",\"Currency\",\"quantityavailable\"],\"index\":[6,7,8],\"data\":[[\"Water Heaters\",\"Water heaters for home. 50L capacity. 50W Power\",120.0,\"HomeElectricals\",\"$\",10.0],[\"Prism\",\"Multi color lights\",25.0,\"Lights\",\"$\",5.0],[\"Tracker\",\"GPS tracker for vehicles\",250.0,\"Logistics\",\"USD\",8.0]]}'"
      ]
     },
     "execution_count": 6,
     "metadata": {},
     "output_type": "execute_result"
    }
   ],
   "source": [
    "df1.to_json(orient='split')"
   ]
  },
  {
   "cell_type": "code",
   "execution_count": 7,
   "metadata": {},
   "outputs": [],
   "source": [
    "obj = df1.apply(lambda x:x.to_json(), axis=1)"
   ]
  },
  {
   "cell_type": "code",
   "execution_count": 8,
   "metadata": {},
   "outputs": [
    {
     "data": {
      "text/plain": [
       "pandas.core.series.Series"
      ]
     },
     "execution_count": 8,
     "metadata": {},
     "output_type": "execute_result"
    }
   ],
   "source": [
    "type(obj)"
   ]
  },
  {
   "cell_type": "code",
   "execution_count": 9,
   "metadata": {},
   "outputs": [
    {
     "data": {
      "text/plain": [
       "'[{\"productname\":\"Water Heaters\",\"description\":\"Water heaters for home. 50L capacity. 50W Power\",\"Price\":120.0,\"Category\":\"HomeElectricals\",\"Currency\":\"$\",\"quantityavailable\":10.0},{\"productname\":\"Prism\",\"description\":\"Multi color lights\",\"Price\":25.0,\"Category\":\"Lights\",\"Currency\":\"$\",\"quantityavailable\":5.0},{\"productname\":\"Tracker\",\"description\":\"GPS tracker for vehicles\",\"Price\":250.0,\"Category\":\"Logistics\",\"Currency\":\"USD\",\"quantityavailable\":8.0}]'"
      ]
     },
     "execution_count": 9,
     "metadata": {},
     "output_type": "execute_result"
    }
   ],
   "source": [
    "df1.to_json(orient='records')"
   ]
  },
  {
   "cell_type": "code",
   "execution_count": 10,
   "metadata": {},
   "outputs": [],
   "source": [
    "import json"
   ]
  },
  {
   "cell_type": "code",
   "execution_count": 11,
   "metadata": {},
   "outputs": [
    {
     "data": {
      "text/plain": [
       "[{'Category': 'HomeElectricals',\n",
       "  'Currency': '$',\n",
       "  'Price': 120.0,\n",
       "  'description': 'Water heaters for home. 50L capacity. 50W Power',\n",
       "  'productname': 'Water Heaters',\n",
       "  'quantityavailable': 10.0},\n",
       " {'Category': 'Lights',\n",
       "  'Currency': '$',\n",
       "  'Price': 25.0,\n",
       "  'description': 'Multi color lights',\n",
       "  'productname': 'Prism',\n",
       "  'quantityavailable': 5.0},\n",
       " {'Category': 'Logistics',\n",
       "  'Currency': 'USD',\n",
       "  'Price': 250.0,\n",
       "  'description': 'GPS tracker for vehicles',\n",
       "  'productname': 'Tracker',\n",
       "  'quantityavailable': 8.0}]"
      ]
     },
     "execution_count": 11,
     "metadata": {},
     "output_type": "execute_result"
    }
   ],
   "source": [
    "json.loads(df1.to_json(orient='records'))"
   ]
  },
  {
   "cell_type": "code",
   "execution_count": 12,
   "metadata": {},
   "outputs": [],
   "source": [
    "df2 = df.loc[df['cartid'].notnull()][['productid', 'orderquantity', 'cartid']].astype(int)"
   ]
  },
  {
   "cell_type": "code",
   "execution_count": 13,
   "metadata": {},
   "outputs": [
    {
     "data": {
      "text/html": [
       "<div>\n",
       "<style scoped>\n",
       "    .dataframe tbody tr th:only-of-type {\n",
       "        vertical-align: middle;\n",
       "    }\n",
       "\n",
       "    .dataframe tbody tr th {\n",
       "        vertical-align: top;\n",
       "    }\n",
       "\n",
       "    .dataframe thead th {\n",
       "        text-align: right;\n",
       "    }\n",
       "</style>\n",
       "<table border=\"1\" class=\"dataframe\">\n",
       "  <thead>\n",
       "    <tr style=\"text-align: right;\">\n",
       "      <th></th>\n",
       "      <th>productid</th>\n",
       "      <th>orderquantity</th>\n",
       "      <th>cartid</th>\n",
       "    </tr>\n",
       "  </thead>\n",
       "  <tbody>\n",
       "    <tr>\n",
       "      <th>3</th>\n",
       "      <td>101</td>\n",
       "      <td>2</td>\n",
       "      <td>1</td>\n",
       "    </tr>\n",
       "    <tr>\n",
       "      <th>4</th>\n",
       "      <td>102</td>\n",
       "      <td>5</td>\n",
       "      <td>1</td>\n",
       "    </tr>\n",
       "    <tr>\n",
       "      <th>5</th>\n",
       "      <td>103</td>\n",
       "      <td>3</td>\n",
       "      <td>2</td>\n",
       "    </tr>\n",
       "  </tbody>\n",
       "</table>\n",
       "</div>"
      ],
      "text/plain": [
       "   productid  orderquantity  cartid\n",
       "3        101              2       1\n",
       "4        102              5       1\n",
       "5        103              3       2"
      ]
     },
     "execution_count": 13,
     "metadata": {},
     "output_type": "execute_result"
    }
   ],
   "source": [
    "df2"
   ]
  },
  {
   "cell_type": "code",
   "execution_count": 14,
   "metadata": {},
   "outputs": [
    {
     "data": {
      "text/plain": [
       "[{'cartid': 1, 'orderquantity': 2, 'productid': 101},\n",
       " {'cartid': 1, 'orderquantity': 5, 'productid': 102},\n",
       " {'cartid': 2, 'orderquantity': 3, 'productid': 103}]"
      ]
     },
     "execution_count": 14,
     "metadata": {},
     "output_type": "execute_result"
    }
   ],
   "source": [
    "json.loads(df2.to_json(orient='records'))"
   ]
  },
  {
   "cell_type": "code",
   "execution_count": 15,
   "metadata": {},
   "outputs": [
    {
     "data": {
      "text/html": [
       "<div>\n",
       "<style scoped>\n",
       "    .dataframe tbody tr th:only-of-type {\n",
       "        vertical-align: middle;\n",
       "    }\n",
       "\n",
       "    .dataframe tbody tr th {\n",
       "        vertical-align: top;\n",
       "    }\n",
       "\n",
       "    .dataframe thead th {\n",
       "        text-align: right;\n",
       "    }\n",
       "</style>\n",
       "<table border=\"1\" class=\"dataframe\">\n",
       "  <thead>\n",
       "    <tr style=\"text-align: right;\">\n",
       "      <th></th>\n",
       "      <th>username</th>\n",
       "      <th>Password</th>\n",
       "      <th>Name</th>\n",
       "      <th>Address</th>\n",
       "      <th>phonenumber</th>\n",
       "      <th>preference</th>\n",
       "      <th>cartid</th>\n",
       "      <th>username.1</th>\n",
       "      <th>productid</th>\n",
       "      <th>orderquantity</th>\n",
       "      <th>productid.1</th>\n",
       "      <th>productname</th>\n",
       "      <th>description</th>\n",
       "      <th>quantityavailable</th>\n",
       "      <th>Currency</th>\n",
       "      <th>Price</th>\n",
       "      <th>Category</th>\n",
       "    </tr>\n",
       "  </thead>\n",
       "  <tbody>\n",
       "    <tr>\n",
       "      <th>0</th>\n",
       "      <td>ralph_ray</td>\n",
       "      <td>MyPassword123!</td>\n",
       "      <td>RalpH Ray</td>\n",
       "      <td>10, Downing Street, LA 3ED 5B7</td>\n",
       "      <td>(1022) 233-9202</td>\n",
       "      <td>HomeElectricals</td>\n",
       "      <td>NaN</td>\n",
       "      <td>NaN</td>\n",
       "      <td>NaN</td>\n",
       "      <td>NaN</td>\n",
       "      <td>NaN</td>\n",
       "      <td>NaN</td>\n",
       "      <td>NaN</td>\n",
       "      <td>NaN</td>\n",
       "      <td>NaN</td>\n",
       "      <td>NaN</td>\n",
       "      <td>NaN</td>\n",
       "    </tr>\n",
       "    <tr>\n",
       "      <th>1</th>\n",
       "      <td>s_jones</td>\n",
       "      <td>Smith999!@</td>\n",
       "      <td>Smit Jones</td>\n",
       "      <td>22 Ivory Island, New York, WE9 87G</td>\n",
       "      <td>(1121) 335-6784</td>\n",
       "      <td>Lights</td>\n",
       "      <td>NaN</td>\n",
       "      <td>NaN</td>\n",
       "      <td>NaN</td>\n",
       "      <td>NaN</td>\n",
       "      <td>NaN</td>\n",
       "      <td>NaN</td>\n",
       "      <td>NaN</td>\n",
       "      <td>NaN</td>\n",
       "      <td>NaN</td>\n",
       "      <td>NaN</td>\n",
       "      <td>NaN</td>\n",
       "    </tr>\n",
       "    <tr>\n",
       "      <th>2</th>\n",
       "      <td>roverd</td>\n",
       "      <td>April23!</td>\n",
       "      <td>David Rover</td>\n",
       "      <td>98 Manning Town Events Day TowerNew Jersey 23E...</td>\n",
       "      <td>(2344) 749-5671</td>\n",
       "      <td>Logistics</td>\n",
       "      <td>NaN</td>\n",
       "      <td>NaN</td>\n",
       "      <td>NaN</td>\n",
       "      <td>NaN</td>\n",
       "      <td>NaN</td>\n",
       "      <td>NaN</td>\n",
       "      <td>NaN</td>\n",
       "      <td>NaN</td>\n",
       "      <td>NaN</td>\n",
       "      <td>NaN</td>\n",
       "      <td>NaN</td>\n",
       "    </tr>\n",
       "    <tr>\n",
       "      <th>3</th>\n",
       "      <td>NaN</td>\n",
       "      <td>NaN</td>\n",
       "      <td>NaN</td>\n",
       "      <td>NaN</td>\n",
       "      <td>NaN</td>\n",
       "      <td>NaN</td>\n",
       "      <td>1.0</td>\n",
       "      <td>ralph_ray</td>\n",
       "      <td>101.0</td>\n",
       "      <td>2.0</td>\n",
       "      <td>NaN</td>\n",
       "      <td>NaN</td>\n",
       "      <td>NaN</td>\n",
       "      <td>NaN</td>\n",
       "      <td>NaN</td>\n",
       "      <td>NaN</td>\n",
       "      <td>NaN</td>\n",
       "    </tr>\n",
       "    <tr>\n",
       "      <th>4</th>\n",
       "      <td>NaN</td>\n",
       "      <td>NaN</td>\n",
       "      <td>NaN</td>\n",
       "      <td>NaN</td>\n",
       "      <td>NaN</td>\n",
       "      <td>NaN</td>\n",
       "      <td>1.0</td>\n",
       "      <td>ralph_ray</td>\n",
       "      <td>102.0</td>\n",
       "      <td>5.0</td>\n",
       "      <td>NaN</td>\n",
       "      <td>NaN</td>\n",
       "      <td>NaN</td>\n",
       "      <td>NaN</td>\n",
       "      <td>NaN</td>\n",
       "      <td>NaN</td>\n",
       "      <td>NaN</td>\n",
       "    </tr>\n",
       "    <tr>\n",
       "      <th>5</th>\n",
       "      <td>NaN</td>\n",
       "      <td>NaN</td>\n",
       "      <td>NaN</td>\n",
       "      <td>NaN</td>\n",
       "      <td>NaN</td>\n",
       "      <td>NaN</td>\n",
       "      <td>2.0</td>\n",
       "      <td>s_jones</td>\n",
       "      <td>103.0</td>\n",
       "      <td>3.0</td>\n",
       "      <td>NaN</td>\n",
       "      <td>NaN</td>\n",
       "      <td>NaN</td>\n",
       "      <td>NaN</td>\n",
       "      <td>NaN</td>\n",
       "      <td>NaN</td>\n",
       "      <td>NaN</td>\n",
       "    </tr>\n",
       "    <tr>\n",
       "      <th>6</th>\n",
       "      <td>NaN</td>\n",
       "      <td>NaN</td>\n",
       "      <td>NaN</td>\n",
       "      <td>NaN</td>\n",
       "      <td>NaN</td>\n",
       "      <td>NaN</td>\n",
       "      <td>NaN</td>\n",
       "      <td>NaN</td>\n",
       "      <td>NaN</td>\n",
       "      <td>NaN</td>\n",
       "      <td>101.0</td>\n",
       "      <td>Water Heaters</td>\n",
       "      <td>Water heaters for home. 50L capacity. 50W Power</td>\n",
       "      <td>10.0</td>\n",
       "      <td>$</td>\n",
       "      <td>120.0</td>\n",
       "      <td>HomeElectricals</td>\n",
       "    </tr>\n",
       "    <tr>\n",
       "      <th>7</th>\n",
       "      <td>NaN</td>\n",
       "      <td>NaN</td>\n",
       "      <td>NaN</td>\n",
       "      <td>NaN</td>\n",
       "      <td>NaN</td>\n",
       "      <td>NaN</td>\n",
       "      <td>NaN</td>\n",
       "      <td>NaN</td>\n",
       "      <td>NaN</td>\n",
       "      <td>NaN</td>\n",
       "      <td>102.0</td>\n",
       "      <td>Prism</td>\n",
       "      <td>Multi color lights</td>\n",
       "      <td>5.0</td>\n",
       "      <td>$</td>\n",
       "      <td>25.0</td>\n",
       "      <td>Lights</td>\n",
       "    </tr>\n",
       "    <tr>\n",
       "      <th>8</th>\n",
       "      <td>NaN</td>\n",
       "      <td>NaN</td>\n",
       "      <td>NaN</td>\n",
       "      <td>NaN</td>\n",
       "      <td>NaN</td>\n",
       "      <td>NaN</td>\n",
       "      <td>NaN</td>\n",
       "      <td>NaN</td>\n",
       "      <td>NaN</td>\n",
       "      <td>NaN</td>\n",
       "      <td>103.0</td>\n",
       "      <td>Tracker</td>\n",
       "      <td>GPS tracker for vehicles</td>\n",
       "      <td>8.0</td>\n",
       "      <td>USD</td>\n",
       "      <td>250.0</td>\n",
       "      <td>Logistics</td>\n",
       "    </tr>\n",
       "  </tbody>\n",
       "</table>\n",
       "</div>"
      ],
      "text/plain": [
       "    username        Password         Name  \\\n",
       "0  ralph_ray  MyPassword123!    RalpH Ray   \n",
       "1    s_jones      Smith999!@   Smit Jones   \n",
       "2     roverd        April23!  David Rover   \n",
       "3        NaN             NaN          NaN   \n",
       "4        NaN             NaN          NaN   \n",
       "5        NaN             NaN          NaN   \n",
       "6        NaN             NaN          NaN   \n",
       "7        NaN             NaN          NaN   \n",
       "8        NaN             NaN          NaN   \n",
       "\n",
       "                                            Address       phonenumber  \\\n",
       "0                     10, Downing Street, LA 3ED 5B7  (1022) 233-9202   \n",
       "1                 22 Ivory Island, New York, WE9 87G  (1121) 335-6784   \n",
       "2  98 Manning Town Events Day TowerNew Jersey 23E...  (2344) 749-5671   \n",
       "3                                                NaN              NaN   \n",
       "4                                                NaN              NaN   \n",
       "5                                                NaN              NaN   \n",
       "6                                                NaN              NaN   \n",
       "7                                                NaN              NaN   \n",
       "8                                                NaN              NaN   \n",
       "\n",
       "        preference  cartid username.1  productid  orderquantity  productid.1  \\\n",
       "0  HomeElectricals     NaN        NaN        NaN            NaN          NaN   \n",
       "1           Lights     NaN        NaN        NaN            NaN          NaN   \n",
       "2        Logistics     NaN        NaN        NaN            NaN          NaN   \n",
       "3              NaN     1.0  ralph_ray      101.0            2.0          NaN   \n",
       "4              NaN     1.0  ralph_ray      102.0            5.0          NaN   \n",
       "5              NaN     2.0    s_jones      103.0            3.0          NaN   \n",
       "6              NaN     NaN        NaN        NaN            NaN        101.0   \n",
       "7              NaN     NaN        NaN        NaN            NaN        102.0   \n",
       "8              NaN     NaN        NaN        NaN            NaN        103.0   \n",
       "\n",
       "     productname                                      description  \\\n",
       "0            NaN                                              NaN   \n",
       "1            NaN                                              NaN   \n",
       "2            NaN                                              NaN   \n",
       "3            NaN                                              NaN   \n",
       "4            NaN                                              NaN   \n",
       "5            NaN                                              NaN   \n",
       "6  Water Heaters  Water heaters for home. 50L capacity. 50W Power   \n",
       "7          Prism                               Multi color lights   \n",
       "8        Tracker                         GPS tracker for vehicles   \n",
       "\n",
       "   quantityavailable Currency  Price         Category  \n",
       "0                NaN      NaN    NaN              NaN  \n",
       "1                NaN      NaN    NaN              NaN  \n",
       "2                NaN      NaN    NaN              NaN  \n",
       "3                NaN      NaN    NaN              NaN  \n",
       "4                NaN      NaN    NaN              NaN  \n",
       "5                NaN      NaN    NaN              NaN  \n",
       "6               10.0        $  120.0  HomeElectricals  \n",
       "7                5.0        $   25.0           Lights  \n",
       "8                8.0      USD  250.0        Logistics  "
      ]
     },
     "execution_count": 15,
     "metadata": {},
     "output_type": "execute_result"
    }
   ],
   "source": [
    "df"
   ]
  },
  {
   "cell_type": "code",
   "execution_count": 16,
   "metadata": {},
   "outputs": [
    {
     "data": {
      "text/html": [
       "<div>\n",
       "<style scoped>\n",
       "    .dataframe tbody tr th:only-of-type {\n",
       "        vertical-align: middle;\n",
       "    }\n",
       "\n",
       "    .dataframe tbody tr th {\n",
       "        vertical-align: top;\n",
       "    }\n",
       "\n",
       "    .dataframe thead th {\n",
       "        text-align: right;\n",
       "    }\n",
       "</style>\n",
       "<table border=\"1\" class=\"dataframe\">\n",
       "  <thead>\n",
       "    <tr style=\"text-align: right;\">\n",
       "      <th></th>\n",
       "      <th>productname</th>\n",
       "      <th>description</th>\n",
       "      <th>Price</th>\n",
       "      <th>Category</th>\n",
       "      <th>Currency</th>\n",
       "      <th>quantityavailable</th>\n",
       "    </tr>\n",
       "  </thead>\n",
       "  <tbody>\n",
       "    <tr>\n",
       "      <th>6</th>\n",
       "      <td>Water Heaters</td>\n",
       "      <td>Water heaters for home. 50L capacity. 50W Power</td>\n",
       "      <td>120.0</td>\n",
       "      <td>HomeElectricals</td>\n",
       "      <td>$</td>\n",
       "      <td>10.0</td>\n",
       "    </tr>\n",
       "    <tr>\n",
       "      <th>7</th>\n",
       "      <td>Prism</td>\n",
       "      <td>Multi color lights</td>\n",
       "      <td>25.0</td>\n",
       "      <td>Lights</td>\n",
       "      <td>$</td>\n",
       "      <td>5.0</td>\n",
       "    </tr>\n",
       "    <tr>\n",
       "      <th>8</th>\n",
       "      <td>Tracker</td>\n",
       "      <td>GPS tracker for vehicles</td>\n",
       "      <td>250.0</td>\n",
       "      <td>Logistics</td>\n",
       "      <td>USD</td>\n",
       "      <td>8.0</td>\n",
       "    </tr>\n",
       "  </tbody>\n",
       "</table>\n",
       "</div>"
      ],
      "text/plain": [
       "     productname                                      description  Price  \\\n",
       "6  Water Heaters  Water heaters for home. 50L capacity. 50W Power  120.0   \n",
       "7          Prism                               Multi color lights   25.0   \n",
       "8        Tracker                         GPS tracker for vehicles  250.0   \n",
       "\n",
       "          Category Currency  quantityavailable  \n",
       "6  HomeElectricals        $               10.0  \n",
       "7           Lights        $                5.0  \n",
       "8        Logistics      USD                8.0  "
      ]
     },
     "execution_count": 16,
     "metadata": {},
     "output_type": "execute_result"
    }
   ],
   "source": [
    "df.loc[df['productname'].notnull()][['productname', 'description', 'Price', 'Category', 'Currency', 'quantityavailable']]"
   ]
  },
  {
   "cell_type": "code",
   "execution_count": 17,
   "metadata": {},
   "outputs": [],
   "source": [
    "df = df.rename(columns=lambda x: x.strip())"
   ]
  },
  {
   "cell_type": "code",
   "execution_count": 18,
   "metadata": {},
   "outputs": [
    {
     "data": {
      "text/plain": [
       "Index(['username', 'Password', 'Name', 'Address', 'phonenumber', 'preference',\n",
       "       'cartid', 'username.1', 'productid', 'orderquantity', 'productid.1',\n",
       "       'productname', 'description', 'quantityavailable', 'Currency', 'Price',\n",
       "       'Category'],\n",
       "      dtype='object')"
      ]
     },
     "execution_count": 18,
     "metadata": {},
     "output_type": "execute_result"
    }
   ],
   "source": [
    "df.columns"
   ]
  },
  {
   "cell_type": "code",
   "execution_count": 19,
   "metadata": {},
   "outputs": [],
   "source": [
    "user_data = df.loc[df['username'].notnull()][['username', 'Password', 'Name', 'Address', 'phonenumber', 'preference']]"
   ]
  },
  {
   "cell_type": "code",
   "execution_count": 20,
   "metadata": {},
   "outputs": [],
   "source": [
    "# user_data.to_csv('UserData.csv')"
   ]
  },
  {
   "cell_type": "code",
   "execution_count": 21,
   "metadata": {},
   "outputs": [],
   "source": [
    "product_header_columns = ['productid.1', 'productname', 'description', 'quantityavailable', 'Currency', 'Price', 'Category']"
   ]
  },
  {
   "cell_type": "code",
   "execution_count": 22,
   "metadata": {},
   "outputs": [],
   "source": [
    "product_data = df.loc[df['productname'].notnull()][product_header_columns]"
   ]
  },
  {
   "cell_type": "code",
   "execution_count": 23,
   "metadata": {},
   "outputs": [],
   "source": [
    "product_data.columns = ['productid', 'productname', 'description', 'quanbtityavailable', 'currency', 'price', 'category']"
   ]
  },
  {
   "cell_type": "code",
   "execution_count": 24,
   "metadata": {},
   "outputs": [
    {
     "data": {
      "text/html": [
       "<div>\n",
       "<style scoped>\n",
       "    .dataframe tbody tr th:only-of-type {\n",
       "        vertical-align: middle;\n",
       "    }\n",
       "\n",
       "    .dataframe tbody tr th {\n",
       "        vertical-align: top;\n",
       "    }\n",
       "\n",
       "    .dataframe thead th {\n",
       "        text-align: right;\n",
       "    }\n",
       "</style>\n",
       "<table border=\"1\" class=\"dataframe\">\n",
       "  <thead>\n",
       "    <tr style=\"text-align: right;\">\n",
       "      <th></th>\n",
       "      <th>productid</th>\n",
       "      <th>productname</th>\n",
       "      <th>description</th>\n",
       "      <th>quanbtityavailable</th>\n",
       "      <th>currency</th>\n",
       "      <th>price</th>\n",
       "      <th>category</th>\n",
       "    </tr>\n",
       "  </thead>\n",
       "  <tbody>\n",
       "    <tr>\n",
       "      <th>6</th>\n",
       "      <td>101.0</td>\n",
       "      <td>Water Heaters</td>\n",
       "      <td>Water heaters for home. 50L capacity. 50W Power</td>\n",
       "      <td>10.0</td>\n",
       "      <td>$</td>\n",
       "      <td>120.0</td>\n",
       "      <td>HomeElectricals</td>\n",
       "    </tr>\n",
       "    <tr>\n",
       "      <th>7</th>\n",
       "      <td>102.0</td>\n",
       "      <td>Prism</td>\n",
       "      <td>Multi color lights</td>\n",
       "      <td>5.0</td>\n",
       "      <td>$</td>\n",
       "      <td>25.0</td>\n",
       "      <td>Lights</td>\n",
       "    </tr>\n",
       "    <tr>\n",
       "      <th>8</th>\n",
       "      <td>103.0</td>\n",
       "      <td>Tracker</td>\n",
       "      <td>GPS tracker for vehicles</td>\n",
       "      <td>8.0</td>\n",
       "      <td>USD</td>\n",
       "      <td>250.0</td>\n",
       "      <td>Logistics</td>\n",
       "    </tr>\n",
       "  </tbody>\n",
       "</table>\n",
       "</div>"
      ],
      "text/plain": [
       "   productid    productname                                      description  \\\n",
       "6      101.0  Water Heaters  Water heaters for home. 50L capacity. 50W Power   \n",
       "7      102.0          Prism                               Multi color lights   \n",
       "8      103.0        Tracker                         GPS tracker for vehicles   \n",
       "\n",
       "   quanbtityavailable currency  price         category  \n",
       "6                10.0        $  120.0  HomeElectricals  \n",
       "7                 5.0        $   25.0           Lights  \n",
       "8                 8.0      USD  250.0        Logistics  "
      ]
     },
     "execution_count": 24,
     "metadata": {},
     "output_type": "execute_result"
    }
   ],
   "source": [
    "product_data"
   ]
  },
  {
   "cell_type": "code",
   "execution_count": 25,
   "metadata": {},
   "outputs": [
    {
     "data": {
      "text/plain": [
       "True"
      ]
     },
     "execution_count": 25,
     "metadata": {},
     "output_type": "execute_result"
    }
   ],
   "source": [
    "df[(df['username'] == 'roverd') & (df['Password'] == 'MyPassword123!')].empty"
   ]
  },
  {
   "cell_type": "code",
   "execution_count": 26,
   "metadata": {},
   "outputs": [
    {
     "data": {
      "text/plain": [
       "False"
      ]
     },
     "execution_count": 26,
     "metadata": {},
     "output_type": "execute_result"
    }
   ],
   "source": [
    "obj.empty"
   ]
  },
  {
   "cell_type": "code",
   "execution_count": 27,
   "metadata": {},
   "outputs": [
    {
     "data": {
      "text/plain": [
       "'nan'"
      ]
     },
     "execution_count": 27,
     "metadata": {},
     "output_type": "execute_result"
    }
   ],
   "source": [
    "str(df['username'].iloc[-1])"
   ]
  },
  {
   "cell_type": "code",
   "execution_count": 28,
   "metadata": {},
   "outputs": [],
   "source": [
    "cart = pd.read_csv('CartData.csv')\n",
    "cart = cart.loc[:, ~cart.columns.str.contains('^Unnamed')]\n",
    "product = pd.read_csv('ProductData.csv')\n",
    "product = product.loc[:, ~product.columns.str.contains('^Unnamed')]"
   ]
  },
  {
   "cell_type": "code",
   "execution_count": 29,
   "metadata": {},
   "outputs": [
    {
     "data": {
      "text/html": [
       "<div>\n",
       "<style scoped>\n",
       "    .dataframe tbody tr th:only-of-type {\n",
       "        vertical-align: middle;\n",
       "    }\n",
       "\n",
       "    .dataframe tbody tr th {\n",
       "        vertical-align: top;\n",
       "    }\n",
       "\n",
       "    .dataframe thead th {\n",
       "        text-align: right;\n",
       "    }\n",
       "</style>\n",
       "<table border=\"1\" class=\"dataframe\">\n",
       "  <thead>\n",
       "    <tr style=\"text-align: right;\">\n",
       "      <th></th>\n",
       "      <th>cartid</th>\n",
       "      <th>username</th>\n",
       "      <th>productid</th>\n",
       "      <th>orderquantity</th>\n",
       "    </tr>\n",
       "  </thead>\n",
       "  <tbody>\n",
       "    <tr>\n",
       "      <th>0</th>\n",
       "      <td>1</td>\n",
       "      <td>ralph_ray</td>\n",
       "      <td>101</td>\n",
       "      <td>2</td>\n",
       "    </tr>\n",
       "    <tr>\n",
       "      <th>1</th>\n",
       "      <td>1</td>\n",
       "      <td>ralph_ray</td>\n",
       "      <td>102</td>\n",
       "      <td>5</td>\n",
       "    </tr>\n",
       "  </tbody>\n",
       "</table>\n",
       "</div>"
      ],
      "text/plain": [
       "   cartid   username  productid  orderquantity\n",
       "0       1  ralph_ray        101              2\n",
       "1       1  ralph_ray        102              5"
      ]
     },
     "execution_count": 29,
     "metadata": {},
     "output_type": "execute_result"
    }
   ],
   "source": [
    "cart[cart['username'] == 'ralph_ray']"
   ]
  },
  {
   "cell_type": "code",
   "execution_count": 30,
   "metadata": {},
   "outputs": [
    {
     "data": {
      "text/html": [
       "<div>\n",
       "<style scoped>\n",
       "    .dataframe tbody tr th:only-of-type {\n",
       "        vertical-align: middle;\n",
       "    }\n",
       "\n",
       "    .dataframe tbody tr th {\n",
       "        vertical-align: top;\n",
       "    }\n",
       "\n",
       "    .dataframe thead th {\n",
       "        text-align: right;\n",
       "    }\n",
       "</style>\n",
       "<table border=\"1\" class=\"dataframe\">\n",
       "  <thead>\n",
       "    <tr style=\"text-align: right;\">\n",
       "      <th></th>\n",
       "      <th>productid</th>\n",
       "      <th>productname</th>\n",
       "      <th>description</th>\n",
       "      <th>quantityavailable</th>\n",
       "      <th>currency</th>\n",
       "      <th>cost</th>\n",
       "      <th>category</th>\n",
       "    </tr>\n",
       "  </thead>\n",
       "  <tbody>\n",
       "    <tr>\n",
       "      <th>0</th>\n",
       "      <td>101</td>\n",
       "      <td>Water Heaters</td>\n",
       "      <td>Water heaters for home. 50L capacity. 50W Power</td>\n",
       "      <td>10</td>\n",
       "      <td>$</td>\n",
       "      <td>120.0</td>\n",
       "      <td>HomeElectricals</td>\n",
       "    </tr>\n",
       "    <tr>\n",
       "      <th>1</th>\n",
       "      <td>102</td>\n",
       "      <td>Prism</td>\n",
       "      <td>Multi color lights</td>\n",
       "      <td>5</td>\n",
       "      <td>$</td>\n",
       "      <td>25.0</td>\n",
       "      <td>Lights</td>\n",
       "    </tr>\n",
       "    <tr>\n",
       "      <th>2</th>\n",
       "      <td>103</td>\n",
       "      <td>Tracker</td>\n",
       "      <td>GPS tracker for vehicles</td>\n",
       "      <td>8</td>\n",
       "      <td>USD</td>\n",
       "      <td>250.0</td>\n",
       "      <td>Logistics</td>\n",
       "    </tr>\n",
       "  </tbody>\n",
       "</table>\n",
       "</div>"
      ],
      "text/plain": [
       "   productid    productname                                      description  \\\n",
       "0        101  Water Heaters  Water heaters for home. 50L capacity. 50W Power   \n",
       "1        102          Prism                               Multi color lights   \n",
       "2        103        Tracker                         GPS tracker for vehicles   \n",
       "\n",
       "   quantityavailable currency   cost         category  \n",
       "0                 10        $  120.0  HomeElectricals  \n",
       "1                  5        $   25.0           Lights  \n",
       "2                  8      USD  250.0        Logistics  "
      ]
     },
     "execution_count": 30,
     "metadata": {},
     "output_type": "execute_result"
    }
   ],
   "source": [
    "product"
   ]
  },
  {
   "cell_type": "code",
   "execution_count": null,
   "metadata": {},
   "outputs": [],
   "source": []
  },
  {
   "cell_type": "code",
   "execution_count": 31,
   "metadata": {},
   "outputs": [],
   "source": [
    "data = pd.merge(cart, product, on='productid', how='inner')"
   ]
  },
  {
   "cell_type": "code",
   "execution_count": 32,
   "metadata": {},
   "outputs": [
    {
     "data": {
      "text/plain": [
       "'{\"cartid\":{\"0\":1,\"1\":1,\"2\":2},\"username\":{\"0\":\"ralph_ray\",\"1\":\"ralph_ray\",\"2\":\"s_jones\"},\"productid\":{\"0\":101,\"1\":102,\"2\":103},\"orderquantity\":{\"0\":2,\"1\":5,\"2\":3},\"productname\":{\"0\":\"Water Heaters\",\"1\":\"Prism\",\"2\":\"Tracker\"},\"description\":{\"0\":\"Water heaters for home. 50L capacity. 50W Power\",\"1\":\"Multi color lights\",\"2\":\"GPS tracker for vehicles\"},\"quantityavailable\":{\"0\":10,\"1\":5,\"2\":8},\"currency\":{\"0\":\"$\",\"1\":\"$\",\"2\":\"USD\"},\"cost\":{\"0\":120.0,\"1\":25.0,\"2\":250.0},\"category\":{\"0\":\"HomeElectricals\",\"1\":\"Lights\",\"2\":\"Logistics\"}}'"
      ]
     },
     "execution_count": 32,
     "metadata": {},
     "output_type": "execute_result"
    }
   ],
   "source": [
    "data.to_json()"
   ]
  },
  {
   "cell_type": "code",
   "execution_count": 33,
   "metadata": {},
   "outputs": [],
   "source": [
    "user = pd.read_csv('UserData.csv')"
   ]
  },
  {
   "cell_type": "code",
   "execution_count": 34,
   "metadata": {},
   "outputs": [],
   "source": [
    "user = user.loc[:, ~user.columns.str.contains('^Unnamed')]"
   ]
  },
  {
   "cell_type": "code",
   "execution_count": 35,
   "metadata": {},
   "outputs": [
    {
     "data": {
      "text/html": [
       "<div>\n",
       "<style scoped>\n",
       "    .dataframe tbody tr th:only-of-type {\n",
       "        vertical-align: middle;\n",
       "    }\n",
       "\n",
       "    .dataframe tbody tr th {\n",
       "        vertical-align: top;\n",
       "    }\n",
       "\n",
       "    .dataframe thead th {\n",
       "        text-align: right;\n",
       "    }\n",
       "</style>\n",
       "<table border=\"1\" class=\"dataframe\">\n",
       "  <thead>\n",
       "    <tr style=\"text-align: right;\">\n",
       "      <th></th>\n",
       "      <th>username</th>\n",
       "      <th>Password</th>\n",
       "      <th>Name</th>\n",
       "      <th>Address</th>\n",
       "      <th>phonenumber</th>\n",
       "      <th>preference</th>\n",
       "    </tr>\n",
       "  </thead>\n",
       "  <tbody>\n",
       "    <tr>\n",
       "      <th>0</th>\n",
       "      <td>ralph_ray</td>\n",
       "      <td>MyPassword123!</td>\n",
       "      <td>RalpH Ray</td>\n",
       "      <td>10, Downing Street, LA 3ED 5B7</td>\n",
       "      <td>(1022) 233-9202</td>\n",
       "      <td>HomeElectricals</td>\n",
       "    </tr>\n",
       "    <tr>\n",
       "      <th>1</th>\n",
       "      <td>s_jones</td>\n",
       "      <td>Smith999!@</td>\n",
       "      <td>Smit Jones</td>\n",
       "      <td>22 Ivory Island, New York, WE9 87G</td>\n",
       "      <td>(1121) 335-6784</td>\n",
       "      <td>Lights</td>\n",
       "    </tr>\n",
       "    <tr>\n",
       "      <th>2</th>\n",
       "      <td>roverd</td>\n",
       "      <td>April23!</td>\n",
       "      <td>David Rover</td>\n",
       "      <td>98 Manning Town Events Day TowerNew Jersey 23E...</td>\n",
       "      <td>(2344) 749-5671</td>\n",
       "      <td>Logistics</td>\n",
       "    </tr>\n",
       "  </tbody>\n",
       "</table>\n",
       "</div>"
      ],
      "text/plain": [
       "    username        Password         Name  \\\n",
       "0  ralph_ray  MyPassword123!    RalpH Ray   \n",
       "1    s_jones      Smith999!@   Smit Jones   \n",
       "2     roverd        April23!  David Rover   \n",
       "\n",
       "                                             Address      phonenumber  \\\n",
       "0                     10, Downing Street, LA 3ED 5B7  (1022) 233-9202   \n",
       "1                 22 Ivory Island, New York, WE9 87G  (1121) 335-6784   \n",
       "2  98 Manning Town Events Day TowerNew Jersey 23E...  (2344) 749-5671   \n",
       "\n",
       "        preference  \n",
       "0  HomeElectricals  \n",
       "1           Lights  \n",
       "2        Logistics  "
      ]
     },
     "execution_count": 35,
     "metadata": {},
     "output_type": "execute_result"
    }
   ],
   "source": [
    "user"
   ]
  },
  {
   "cell_type": "code",
   "execution_count": 36,
   "metadata": {},
   "outputs": [],
   "source": [
    "usercart = pd.merge(cart, user, on='username', how='inner')"
   ]
  },
  {
   "cell_type": "code",
   "execution_count": 37,
   "metadata": {},
   "outputs": [
    {
     "data": {
      "text/html": [
       "<div>\n",
       "<style scoped>\n",
       "    .dataframe tbody tr th:only-of-type {\n",
       "        vertical-align: middle;\n",
       "    }\n",
       "\n",
       "    .dataframe tbody tr th {\n",
       "        vertical-align: top;\n",
       "    }\n",
       "\n",
       "    .dataframe thead th {\n",
       "        text-align: right;\n",
       "    }\n",
       "</style>\n",
       "<table border=\"1\" class=\"dataframe\">\n",
       "  <thead>\n",
       "    <tr style=\"text-align: right;\">\n",
       "      <th></th>\n",
       "      <th>cartid</th>\n",
       "      <th>username</th>\n",
       "      <th>productid</th>\n",
       "      <th>orderquantity</th>\n",
       "      <th>Password</th>\n",
       "      <th>Name</th>\n",
       "      <th>Address</th>\n",
       "      <th>phonenumber</th>\n",
       "      <th>preference</th>\n",
       "    </tr>\n",
       "  </thead>\n",
       "  <tbody>\n",
       "    <tr>\n",
       "      <th>0</th>\n",
       "      <td>1</td>\n",
       "      <td>ralph_ray</td>\n",
       "      <td>101</td>\n",
       "      <td>2</td>\n",
       "      <td>MyPassword123!</td>\n",
       "      <td>RalpH Ray</td>\n",
       "      <td>10, Downing Street, LA 3ED 5B7</td>\n",
       "      <td>(1022) 233-9202</td>\n",
       "      <td>HomeElectricals</td>\n",
       "    </tr>\n",
       "    <tr>\n",
       "      <th>1</th>\n",
       "      <td>1</td>\n",
       "      <td>ralph_ray</td>\n",
       "      <td>102</td>\n",
       "      <td>5</td>\n",
       "      <td>MyPassword123!</td>\n",
       "      <td>RalpH Ray</td>\n",
       "      <td>10, Downing Street, LA 3ED 5B7</td>\n",
       "      <td>(1022) 233-9202</td>\n",
       "      <td>HomeElectricals</td>\n",
       "    </tr>\n",
       "    <tr>\n",
       "      <th>2</th>\n",
       "      <td>2</td>\n",
       "      <td>s_jones</td>\n",
       "      <td>103</td>\n",
       "      <td>3</td>\n",
       "      <td>Smith999!@</td>\n",
       "      <td>Smit Jones</td>\n",
       "      <td>22 Ivory Island, New York, WE9 87G</td>\n",
       "      <td>(1121) 335-6784</td>\n",
       "      <td>Lights</td>\n",
       "    </tr>\n",
       "  </tbody>\n",
       "</table>\n",
       "</div>"
      ],
      "text/plain": [
       "   cartid   username  productid  orderquantity        Password        Name  \\\n",
       "0       1  ralph_ray        101              2  MyPassword123!   RalpH Ray   \n",
       "1       1  ralph_ray        102              5  MyPassword123!   RalpH Ray   \n",
       "2       2    s_jones        103              3      Smith999!@  Smit Jones   \n",
       "\n",
       "                              Address      phonenumber       preference  \n",
       "0      10, Downing Street, LA 3ED 5B7  (1022) 233-9202  HomeElectricals  \n",
       "1      10, Downing Street, LA 3ED 5B7  (1022) 233-9202  HomeElectricals  \n",
       "2  22 Ivory Island, New York, WE9 87G  (1121) 335-6784           Lights  "
      ]
     },
     "execution_count": 37,
     "metadata": {},
     "output_type": "execute_result"
    }
   ],
   "source": [
    "usercart"
   ]
  },
  {
   "cell_type": "code",
   "execution_count": 38,
   "metadata": {},
   "outputs": [
    {
     "data": {
      "text/html": [
       "<div>\n",
       "<style scoped>\n",
       "    .dataframe tbody tr th:only-of-type {\n",
       "        vertical-align: middle;\n",
       "    }\n",
       "\n",
       "    .dataframe tbody tr th {\n",
       "        vertical-align: top;\n",
       "    }\n",
       "\n",
       "    .dataframe thead th {\n",
       "        text-align: right;\n",
       "    }\n",
       "</style>\n",
       "<table border=\"1\" class=\"dataframe\">\n",
       "  <thead>\n",
       "    <tr style=\"text-align: right;\">\n",
       "      <th></th>\n",
       "      <th>productid</th>\n",
       "      <th>productname</th>\n",
       "      <th>description</th>\n",
       "      <th>quantityavailable</th>\n",
       "      <th>currency</th>\n",
       "      <th>cost</th>\n",
       "      <th>category</th>\n",
       "      <th>cartid</th>\n",
       "      <th>username</th>\n",
       "      <th>orderquantity</th>\n",
       "      <th>Password</th>\n",
       "      <th>Name</th>\n",
       "      <th>Address</th>\n",
       "      <th>phonenumber</th>\n",
       "      <th>preference</th>\n",
       "    </tr>\n",
       "  </thead>\n",
       "  <tbody>\n",
       "    <tr>\n",
       "      <th>0</th>\n",
       "      <td>101</td>\n",
       "      <td>Water Heaters</td>\n",
       "      <td>Water heaters for home. 50L capacity. 50W Power</td>\n",
       "      <td>10</td>\n",
       "      <td>$</td>\n",
       "      <td>120.0</td>\n",
       "      <td>HomeElectricals</td>\n",
       "      <td>1</td>\n",
       "      <td>ralph_ray</td>\n",
       "      <td>2</td>\n",
       "      <td>MyPassword123!</td>\n",
       "      <td>RalpH Ray</td>\n",
       "      <td>10, Downing Street, LA 3ED 5B7</td>\n",
       "      <td>(1022) 233-9202</td>\n",
       "      <td>HomeElectricals</td>\n",
       "    </tr>\n",
       "    <tr>\n",
       "      <th>1</th>\n",
       "      <td>102</td>\n",
       "      <td>Prism</td>\n",
       "      <td>Multi color lights</td>\n",
       "      <td>5</td>\n",
       "      <td>$</td>\n",
       "      <td>25.0</td>\n",
       "      <td>Lights</td>\n",
       "      <td>1</td>\n",
       "      <td>ralph_ray</td>\n",
       "      <td>5</td>\n",
       "      <td>MyPassword123!</td>\n",
       "      <td>RalpH Ray</td>\n",
       "      <td>10, Downing Street, LA 3ED 5B7</td>\n",
       "      <td>(1022) 233-9202</td>\n",
       "      <td>HomeElectricals</td>\n",
       "    </tr>\n",
       "    <tr>\n",
       "      <th>2</th>\n",
       "      <td>103</td>\n",
       "      <td>Tracker</td>\n",
       "      <td>GPS tracker for vehicles</td>\n",
       "      <td>8</td>\n",
       "      <td>USD</td>\n",
       "      <td>250.0</td>\n",
       "      <td>Logistics</td>\n",
       "      <td>2</td>\n",
       "      <td>s_jones</td>\n",
       "      <td>3</td>\n",
       "      <td>Smith999!@</td>\n",
       "      <td>Smit Jones</td>\n",
       "      <td>22 Ivory Island, New York, WE9 87G</td>\n",
       "      <td>(1121) 335-6784</td>\n",
       "      <td>Lights</td>\n",
       "    </tr>\n",
       "  </tbody>\n",
       "</table>\n",
       "</div>"
      ],
      "text/plain": [
       "   productid    productname                                      description  \\\n",
       "0        101  Water Heaters  Water heaters for home. 50L capacity. 50W Power   \n",
       "1        102          Prism                               Multi color lights   \n",
       "2        103        Tracker                         GPS tracker for vehicles   \n",
       "\n",
       "   quantityavailable currency   cost         category  cartid   username  \\\n",
       "0                 10        $  120.0  HomeElectricals       1  ralph_ray   \n",
       "1                  5        $   25.0           Lights       1  ralph_ray   \n",
       "2                  8      USD  250.0        Logistics       2    s_jones   \n",
       "\n",
       "   orderquantity        Password        Name  \\\n",
       "0              2  MyPassword123!   RalpH Ray   \n",
       "1              5  MyPassword123!   RalpH Ray   \n",
       "2              3      Smith999!@  Smit Jones   \n",
       "\n",
       "                              Address      phonenumber       preference  \n",
       "0      10, Downing Street, LA 3ED 5B7  (1022) 233-9202  HomeElectricals  \n",
       "1      10, Downing Street, LA 3ED 5B7  (1022) 233-9202  HomeElectricals  \n",
       "2  22 Ivory Island, New York, WE9 87G  (1121) 335-6784           Lights  "
      ]
     },
     "execution_count": 38,
     "metadata": {},
     "output_type": "execute_result"
    }
   ],
   "source": [
    "pd.merge(product, usercart, on='productid', how='inner')"
   ]
  },
  {
   "cell_type": "code",
   "execution_count": 56,
   "metadata": {},
   "outputs": [
    {
     "name": "stderr",
     "output_type": "stream",
     "text": [
      "/home/user/anaconda3/lib/python3.6/site-packages/pandas/core/ops.py:1167: FutureWarning: elementwise comparison failed; returning scalar instead, but in the future will perform elementwise comparison\n",
      "  result = method(y)\n"
     ]
    },
    {
     "ename": "TypeError",
     "evalue": "invalid type comparison",
     "output_type": "error",
     "traceback": [
      "\u001b[0;31m---------------------------------------------------------------------------\u001b[0m",
      "\u001b[0;31mTypeError\u001b[0m                                 Traceback (most recent call last)",
      "\u001b[0;32m<ipython-input-56-e69970403177>\u001b[0m in \u001b[0;36m<module>\u001b[0;34m()\u001b[0m\n\u001b[0;32m----> 1\u001b[0;31m \u001b[0mcart\u001b[0m\u001b[0;34m[\u001b[0m\u001b[0mcart\u001b[0m\u001b[0;34m[\u001b[0m\u001b[0;34m'cartid'\u001b[0m\u001b[0;34m]\u001b[0m \u001b[0;34m==\u001b[0m \u001b[0;34m'1'\u001b[0m\u001b[0;34m]\u001b[0m\u001b[0;34m\u001b[0m\u001b[0m\n\u001b[0m",
      "\u001b[0;32m~/anaconda3/lib/python3.6/site-packages/pandas/core/ops.py\u001b[0m in \u001b[0;36mwrapper\u001b[0;34m(self, other, axis)\u001b[0m\n\u001b[1;32m   1281\u001b[0m \u001b[0;34m\u001b[0m\u001b[0m\n\u001b[1;32m   1282\u001b[0m             \u001b[0;32mwith\u001b[0m \u001b[0mnp\u001b[0m\u001b[0;34m.\u001b[0m\u001b[0merrstate\u001b[0m\u001b[0;34m(\u001b[0m\u001b[0mall\u001b[0m\u001b[0;34m=\u001b[0m\u001b[0;34m'ignore'\u001b[0m\u001b[0;34m)\u001b[0m\u001b[0;34m:\u001b[0m\u001b[0;34m\u001b[0m\u001b[0m\n\u001b[0;32m-> 1283\u001b[0;31m                 \u001b[0mres\u001b[0m \u001b[0;34m=\u001b[0m \u001b[0mna_op\u001b[0m\u001b[0;34m(\u001b[0m\u001b[0mvalues\u001b[0m\u001b[0;34m,\u001b[0m \u001b[0mother\u001b[0m\u001b[0;34m)\u001b[0m\u001b[0;34m\u001b[0m\u001b[0m\n\u001b[0m\u001b[1;32m   1284\u001b[0m             \u001b[0;32mif\u001b[0m \u001b[0mis_scalar\u001b[0m\u001b[0;34m(\u001b[0m\u001b[0mres\u001b[0m\u001b[0;34m)\u001b[0m\u001b[0;34m:\u001b[0m\u001b[0;34m\u001b[0m\u001b[0m\n\u001b[1;32m   1285\u001b[0m                 raise TypeError('Could not compare {typ} type with Series'\n",
      "\u001b[0;32m~/anaconda3/lib/python3.6/site-packages/pandas/core/ops.py\u001b[0m in \u001b[0;36mna_op\u001b[0;34m(x, y)\u001b[0m\n\u001b[1;32m   1167\u001b[0m                     \u001b[0mresult\u001b[0m \u001b[0;34m=\u001b[0m \u001b[0mmethod\u001b[0m\u001b[0;34m(\u001b[0m\u001b[0my\u001b[0m\u001b[0;34m)\u001b[0m\u001b[0;34m\u001b[0m\u001b[0m\n\u001b[1;32m   1168\u001b[0m                 \u001b[0;32mif\u001b[0m \u001b[0mresult\u001b[0m \u001b[0;32mis\u001b[0m \u001b[0mNotImplemented\u001b[0m\u001b[0;34m:\u001b[0m\u001b[0;34m\u001b[0m\u001b[0m\n\u001b[0;32m-> 1169\u001b[0;31m                     \u001b[0;32mraise\u001b[0m \u001b[0mTypeError\u001b[0m\u001b[0;34m(\u001b[0m\u001b[0;34m\"invalid type comparison\"\u001b[0m\u001b[0;34m)\u001b[0m\u001b[0;34m\u001b[0m\u001b[0m\n\u001b[0m\u001b[1;32m   1170\u001b[0m             \u001b[0;32melse\u001b[0m\u001b[0;34m:\u001b[0m\u001b[0;34m\u001b[0m\u001b[0m\n\u001b[1;32m   1171\u001b[0m                 \u001b[0mresult\u001b[0m \u001b[0;34m=\u001b[0m \u001b[0mop\u001b[0m\u001b[0;34m(\u001b[0m\u001b[0mx\u001b[0m\u001b[0;34m,\u001b[0m \u001b[0my\u001b[0m\u001b[0;34m)\u001b[0m\u001b[0;34m\u001b[0m\u001b[0m\n",
      "\u001b[0;31mTypeError\u001b[0m: invalid type comparison"
     ]
    }
   ],
   "source": [
    "cart[cart['cartid'] == '1']"
   ]
  },
  {
   "cell_type": "code",
   "execution_count": 40,
   "metadata": {},
   "outputs": [
    {
     "data": {
      "text/html": [
       "<div>\n",
       "<style scoped>\n",
       "    .dataframe tbody tr th:only-of-type {\n",
       "        vertical-align: middle;\n",
       "    }\n",
       "\n",
       "    .dataframe tbody tr th {\n",
       "        vertical-align: top;\n",
       "    }\n",
       "\n",
       "    .dataframe thead th {\n",
       "        text-align: right;\n",
       "    }\n",
       "</style>\n",
       "<table border=\"1\" class=\"dataframe\">\n",
       "  <thead>\n",
       "    <tr style=\"text-align: right;\">\n",
       "      <th></th>\n",
       "      <th>productid</th>\n",
       "      <th>productname</th>\n",
       "      <th>description</th>\n",
       "      <th>quantityavailable</th>\n",
       "      <th>currency</th>\n",
       "      <th>cost</th>\n",
       "      <th>category</th>\n",
       "    </tr>\n",
       "  </thead>\n",
       "  <tbody>\n",
       "    <tr>\n",
       "      <th>0</th>\n",
       "      <td>101</td>\n",
       "      <td>Water Heaters</td>\n",
       "      <td>Water heaters for home. 50L capacity. 50W Power</td>\n",
       "      <td>10</td>\n",
       "      <td>$</td>\n",
       "      <td>120.0</td>\n",
       "      <td>HomeElectricals</td>\n",
       "    </tr>\n",
       "    <tr>\n",
       "      <th>1</th>\n",
       "      <td>102</td>\n",
       "      <td>Prism</td>\n",
       "      <td>Multi color lights</td>\n",
       "      <td>5</td>\n",
       "      <td>$</td>\n",
       "      <td>25.0</td>\n",
       "      <td>Lights</td>\n",
       "    </tr>\n",
       "    <tr>\n",
       "      <th>2</th>\n",
       "      <td>103</td>\n",
       "      <td>Tracker</td>\n",
       "      <td>GPS tracker for vehicles</td>\n",
       "      <td>8</td>\n",
       "      <td>USD</td>\n",
       "      <td>250.0</td>\n",
       "      <td>Logistics</td>\n",
       "    </tr>\n",
       "  </tbody>\n",
       "</table>\n",
       "</div>"
      ],
      "text/plain": [
       "   productid    productname                                      description  \\\n",
       "0        101  Water Heaters  Water heaters for home. 50L capacity. 50W Power   \n",
       "1        102          Prism                               Multi color lights   \n",
       "2        103        Tracker                         GPS tracker for vehicles   \n",
       "\n",
       "   quantityavailable currency   cost         category  \n",
       "0                 10        $  120.0  HomeElectricals  \n",
       "1                  5        $   25.0           Lights  \n",
       "2                  8      USD  250.0        Logistics  "
      ]
     },
     "execution_count": 40,
     "metadata": {},
     "output_type": "execute_result"
    }
   ],
   "source": [
    "product"
   ]
  },
  {
   "cell_type": "code",
   "execution_count": 54,
   "metadata": {},
   "outputs": [],
   "source": [
    "order = pd.merge(cart, product, on='productid', how='inner')"
   ]
  },
  {
   "cell_type": "code",
   "execution_count": 55,
   "metadata": {},
   "outputs": [
    {
     "data": {
      "text/html": [
       "<div>\n",
       "<style scoped>\n",
       "    .dataframe tbody tr th:only-of-type {\n",
       "        vertical-align: middle;\n",
       "    }\n",
       "\n",
       "    .dataframe tbody tr th {\n",
       "        vertical-align: top;\n",
       "    }\n",
       "\n",
       "    .dataframe thead th {\n",
       "        text-align: right;\n",
       "    }\n",
       "</style>\n",
       "<table border=\"1\" class=\"dataframe\">\n",
       "  <thead>\n",
       "    <tr style=\"text-align: right;\">\n",
       "      <th></th>\n",
       "      <th>cartid</th>\n",
       "      <th>username</th>\n",
       "      <th>productid</th>\n",
       "      <th>orderquantity</th>\n",
       "      <th>productname</th>\n",
       "      <th>description</th>\n",
       "      <th>quantityavailable</th>\n",
       "      <th>currency</th>\n",
       "      <th>cost</th>\n",
       "      <th>category</th>\n",
       "    </tr>\n",
       "  </thead>\n",
       "  <tbody>\n",
       "    <tr>\n",
       "      <th>0</th>\n",
       "      <td>1</td>\n",
       "      <td>ralph_ray</td>\n",
       "      <td>101</td>\n",
       "      <td>2</td>\n",
       "      <td>Water Heaters</td>\n",
       "      <td>Water heaters for home. 50L capacity. 50W Power</td>\n",
       "      <td>10</td>\n",
       "      <td>$</td>\n",
       "      <td>120.0</td>\n",
       "      <td>HomeElectricals</td>\n",
       "    </tr>\n",
       "    <tr>\n",
       "      <th>1</th>\n",
       "      <td>1</td>\n",
       "      <td>ralph_ray</td>\n",
       "      <td>102</td>\n",
       "      <td>5</td>\n",
       "      <td>Prism</td>\n",
       "      <td>Multi color lights</td>\n",
       "      <td>5</td>\n",
       "      <td>$</td>\n",
       "      <td>25.0</td>\n",
       "      <td>Lights</td>\n",
       "    </tr>\n",
       "    <tr>\n",
       "      <th>2</th>\n",
       "      <td>2</td>\n",
       "      <td>s_jones</td>\n",
       "      <td>103</td>\n",
       "      <td>3</td>\n",
       "      <td>Tracker</td>\n",
       "      <td>GPS tracker for vehicles</td>\n",
       "      <td>8</td>\n",
       "      <td>USD</td>\n",
       "      <td>250.0</td>\n",
       "      <td>Logistics</td>\n",
       "    </tr>\n",
       "  </tbody>\n",
       "</table>\n",
       "</div>"
      ],
      "text/plain": [
       "   cartid   username  productid  orderquantity    productname  \\\n",
       "0       1  ralph_ray        101              2  Water Heaters   \n",
       "1       1  ralph_ray        102              5          Prism   \n",
       "2       2    s_jones        103              3        Tracker   \n",
       "\n",
       "                                       description  quantityavailable  \\\n",
       "0  Water heaters for home. 50L capacity. 50W Power                 10   \n",
       "1                               Multi color lights                  5   \n",
       "2                         GPS tracker for vehicles                  8   \n",
       "\n",
       "  currency   cost         category  \n",
       "0        $  120.0  HomeElectricals  \n",
       "1        $   25.0           Lights  \n",
       "2      USD  250.0        Logistics  "
      ]
     },
     "execution_count": 55,
     "metadata": {},
     "output_type": "execute_result"
    }
   ],
   "source": [
    "order"
   ]
  },
  {
   "cell_type": "code",
   "execution_count": null,
   "metadata": {},
   "outputs": [],
   "source": []
  },
  {
   "cell_type": "code",
   "execution_count": null,
   "metadata": {},
   "outputs": [],
   "source": []
  },
  {
   "cell_type": "code",
   "execution_count": 44,
   "metadata": {},
   "outputs": [],
   "source": [
    "order['total_cost'] = 0"
   ]
  },
  {
   "cell_type": "code",
   "execution_count": 46,
   "metadata": {},
   "outputs": [],
   "source": [
    "order['total_cost'] = order['orderquantity'] * order['cost']"
   ]
  },
  {
   "cell_type": "code",
   "execution_count": 49,
   "metadata": {},
   "outputs": [],
   "source": [
    "orderdetails = order[['username', 'cartid', 'productname', 'orderquantity', 'cost', 'total_cost']]"
   ]
  },
  {
   "cell_type": "code",
   "execution_count": 50,
   "metadata": {},
   "outputs": [
    {
     "data": {
      "text/html": [
       "<div>\n",
       "<style scoped>\n",
       "    .dataframe tbody tr th:only-of-type {\n",
       "        vertical-align: middle;\n",
       "    }\n",
       "\n",
       "    .dataframe tbody tr th {\n",
       "        vertical-align: top;\n",
       "    }\n",
       "\n",
       "    .dataframe thead th {\n",
       "        text-align: right;\n",
       "    }\n",
       "</style>\n",
       "<table border=\"1\" class=\"dataframe\">\n",
       "  <thead>\n",
       "    <tr style=\"text-align: right;\">\n",
       "      <th></th>\n",
       "      <th>username</th>\n",
       "      <th>cartid</th>\n",
       "      <th>productname</th>\n",
       "      <th>orderquantity</th>\n",
       "      <th>cost</th>\n",
       "      <th>total_cost</th>\n",
       "    </tr>\n",
       "  </thead>\n",
       "  <tbody>\n",
       "    <tr>\n",
       "      <th>0</th>\n",
       "      <td>ralph_ray</td>\n",
       "      <td>1</td>\n",
       "      <td>Water Heaters</td>\n",
       "      <td>2</td>\n",
       "      <td>120.0</td>\n",
       "      <td>240.0</td>\n",
       "    </tr>\n",
       "    <tr>\n",
       "      <th>1</th>\n",
       "      <td>ralph_ray</td>\n",
       "      <td>1</td>\n",
       "      <td>Prism</td>\n",
       "      <td>5</td>\n",
       "      <td>25.0</td>\n",
       "      <td>125.0</td>\n",
       "    </tr>\n",
       "    <tr>\n",
       "      <th>2</th>\n",
       "      <td>s_jones</td>\n",
       "      <td>2</td>\n",
       "      <td>Tracker</td>\n",
       "      <td>3</td>\n",
       "      <td>250.0</td>\n",
       "      <td>750.0</td>\n",
       "    </tr>\n",
       "  </tbody>\n",
       "</table>\n",
       "</div>"
      ],
      "text/plain": [
       "    username  cartid    productname  orderquantity   cost  total_cost\n",
       "0  ralph_ray       1  Water Heaters              2  120.0       240.0\n",
       "1  ralph_ray       1          Prism              5   25.0       125.0\n",
       "2    s_jones       2        Tracker              3  250.0       750.0"
      ]
     },
     "execution_count": 50,
     "metadata": {},
     "output_type": "execute_result"
    }
   ],
   "source": [
    "orderdetails"
   ]
  },
  {
   "cell_type": "code",
   "execution_count": 57,
   "metadata": {},
   "outputs": [
    {
     "ename": "NameError",
     "evalue": "name 'key' is not defined",
     "output_type": "error",
     "traceback": [
      "\u001b[0;31m---------------------------------------------------------------------------\u001b[0m",
      "\u001b[0;31mNameError\u001b[0m                                 Traceback (most recent call last)",
      "\u001b[0;32m<ipython-input-57-fd90bad46e10>\u001b[0m in \u001b[0;36m<module>\u001b[0;34m()\u001b[0m\n\u001b[0;32m----> 1\u001b[0;31m \u001b[0mdf\u001b[0m\u001b[0;34m.\u001b[0m\u001b[0mdrop\u001b[0m\u001b[0;34m(\u001b[0m\u001b[0mdf\u001b[0m\u001b[0;34m[\u001b[0m\u001b[0;34m(\u001b[0m\u001b[0mdf\u001b[0m\u001b[0;34m.\u001b[0m\u001b[0mcartid\u001b[0m \u001b[0;34m==\u001b[0m \u001b[0mkey\u001b[0m\u001b[0;34m[\u001b[0m\u001b[0;34m'cartId'\u001b[0m\u001b[0;34m]\u001b[0m\u001b[0;34m)\u001b[0m \u001b[0;34m&\u001b[0m \u001b[0;34m(\u001b[0m\u001b[0mdf\u001b[0m\u001b[0;34m.\u001b[0m\u001b[0mproductid\u001b[0m \u001b[0;34m==\u001b[0m \u001b[0mkey\u001b[0m\u001b[0;34m[\u001b[0m\u001b[0;34m'productId'\u001b[0m\u001b[0;34m]\u001b[0m\u001b[0;34m)\u001b[0m \u001b[0;34m&\u001b[0m \u001b[0;34m(\u001b[0m\u001b[0mdf\u001b[0m\u001b[0;34m.\u001b[0m\u001b[0musername\u001b[0m \u001b[0;34m==\u001b[0m \u001b[0musername\u001b[0m\u001b[0;34m)\u001b[0m\u001b[0;34m]\u001b[0m\u001b[0;34m.\u001b[0m\u001b[0mindex\u001b[0m\u001b[0;34m,\u001b[0m \u001b[0minplace\u001b[0m\u001b[0;34m=\u001b[0m\u001b[0;32mTrue\u001b[0m\u001b[0;34m)\u001b[0m\u001b[0;34m\u001b[0m\u001b[0m\n\u001b[0m",
      "\u001b[0;31mNameError\u001b[0m: name 'key' is not defined"
     ]
    }
   ],
   "source": [
    "df.drop(df[(df.cartid == key['cartId']) & (df.productid == key['productId']) & (df.username == username)].index, inplace=True)"
   ]
  },
  {
   "cell_type": "code",
   "execution_count": null,
   "metadata": {},
   "outputs": [],
   "source": []
  }
 ],
 "metadata": {
  "kernelspec": {
   "display_name": "Python 3",
   "language": "python",
   "name": "python3"
  },
  "language_info": {
   "codemirror_mode": {
    "name": "ipython",
    "version": 3
   },
   "file_extension": ".py",
   "mimetype": "text/x-python",
   "name": "python",
   "nbconvert_exporter": "python",
   "pygments_lexer": "ipython3",
   "version": "3.6.6"
  }
 },
 "nbformat": 4,
 "nbformat_minor": 2
}
